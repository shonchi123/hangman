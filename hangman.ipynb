{
 "cells": [
  {
   "cell_type": "code",
   "execution_count": 9,
   "id": "ff830d3e-a1db-4f3a-9ed6-a2b9fc0ba41f",
   "metadata": {},
   "outputs": [
    {
     "name": "stderr",
     "output_type": "stream",
     "text": [
      "<>:8: SyntaxWarning: invalid escape sequence '\\ '\n",
      "<>:9: SyntaxWarning: invalid escape sequence '\\ '\n",
      "<>:8: SyntaxWarning: invalid escape sequence '\\ '\n",
      "<>:9: SyntaxWarning: invalid escape sequence '\\ '\n",
      "C:\\Users\\User\\AppData\\Local\\Temp\\ipykernel_2004\\636247460.py:8: SyntaxWarning: invalid escape sequence '\\ '\n",
      "  \"|       /|\\       \",\n",
      "C:\\Users\\User\\AppData\\Local\\Temp\\ipykernel_2004\\636247460.py:9: SyntaxWarning: invalid escape sequence '\\ '\n",
      "  \"|       / \\       \",\n"
     ]
    },
    {
     "name": "stdout",
     "output_type": "stream",
     "text": [
      "ハングマンへようこそ!\n",
      "\n",
      "\n"
     ]
    },
    {
     "name": "stdin",
     "output_type": "stream",
     "text": [
      "1文字を予想してね m\n"
     ]
    },
    {
     "name": "stdout",
     "output_type": "stream",
     "text": [
      "___\n",
      "\n",
      "_______          \n",
      "\n",
      "\n"
     ]
    },
    {
     "name": "stdin",
     "output_type": "stream",
     "text": [
      "1文字を予想してね l\n"
     ]
    },
    {
     "name": "stdout",
     "output_type": "stream",
     "text": [
      "___\n",
      "\n",
      "_______          \n",
      "|                \n",
      "\n",
      "\n"
     ]
    },
    {
     "name": "stdin",
     "output_type": "stream",
     "text": [
      "1文字を予想してね k\n"
     ]
    },
    {
     "name": "stdout",
     "output_type": "stream",
     "text": [
      "___\n",
      "\n",
      "_______          \n",
      "|                \n",
      "|        |       \n",
      "\n",
      "\n"
     ]
    },
    {
     "name": "stdin",
     "output_type": "stream",
     "text": [
      "1文字を予想してね j\n"
     ]
    },
    {
     "name": "stdout",
     "output_type": "stream",
     "text": [
      "___\n",
      "\n",
      "_______          \n",
      "|                \n",
      "|        |       \n",
      "|        0       \n",
      "\n",
      "\n"
     ]
    },
    {
     "name": "stdin",
     "output_type": "stream",
     "text": [
      "1文字を予想してね i\n"
     ]
    },
    {
     "name": "stdout",
     "output_type": "stream",
     "text": [
      "___\n",
      "\n",
      "_______          \n",
      "|                \n",
      "|        |       \n",
      "|        0       \n",
      "|       /|\\       \n",
      "\n",
      "\n"
     ]
    },
    {
     "name": "stdin",
     "output_type": "stream",
     "text": [
      "1文字を予想してね o\n"
     ]
    },
    {
     "name": "stdout",
     "output_type": "stream",
     "text": [
      "___\n",
      "\n",
      "_______          \n",
      "|                \n",
      "|        |       \n",
      "|        0       \n",
      "|       /|\\       \n",
      "|       / \\       \n",
      "\n",
      "\n"
     ]
    },
    {
     "name": "stdin",
     "output_type": "stream",
     "text": [
      "1文字を予想してね l\n"
     ]
    },
    {
     "name": "stdout",
     "output_type": "stream",
     "text": [
      "___\n",
      "\n",
      "_______          \n",
      "|                \n",
      "|        |       \n",
      "|        0       \n",
      "|       /|\\       \n",
      "|       / \\       \n",
      "|                \n",
      "\n",
      "_______          \n",
      "|                \n",
      "|        |       \n",
      "|        0       \n",
      "|       /|\\       \n",
      "|       / \\       \n",
      "|                \n",
      "あなたの負け!正解はcat.\n"
     ]
    }
   ],
   "source": [
    "def hangman(word):\n",
    "    wrong = 0\n",
    "    stages =   [\"\",\n",
    "                \"_________        \",\n",
    "                \"|                \",\n",
    "                \"|        |       \",\n",
    "                \"|        0       \",\n",
    "                \"|       /|\\      \",\n",
    "                \"|       / \\      \",\n",
    "                \"|                \",\n",
    "               ]\n",
    "    rletters = list(word)\n",
    "    board = [\"_\"] * len(word)\n",
    "    win = False\n",
    "    print(\"ハングマンへようこそ!\")\n",
    "    while wrong < len(stages) -1:\n",
    "        print(\"\\n\")\n",
    "        msg = \"1文字を予想してね\"\n",
    "        char = input(msg)\n",
    "        if char in rletters:\n",
    "            cind = rletters.index(char)\n",
    "            board[cind] = char\n",
    "            rletters[cind] =\"$\"\n",
    "        else:\n",
    "            wrong += 1\n",
    "        print(\"\".join(board))\n",
    "        e = wrong + 1\n",
    "        print(\"\\n\".join(stages[0:e]))\n",
    "        if \"_\" not in board:\n",
    "            print(\"あなたの勝ち!\")\n",
    "            print(\"\".join(board))\n",
    "            win =True\n",
    "            break\n",
    "    if not win:\n",
    "        print(\"\\n\".join(stages[0:wrong+1]))\n",
    "        print(\"あなたの負け!正解は{}.\".format(word))\n",
    "\n",
    "\n",
    "\n",
    "hangman(\"cat\")        \n",
    "        "
   ]
  },
  {
   "cell_type": "code",
   "execution_count": null,
   "id": "f9918ef3-3b7b-4bee-b438-4a3f53fe611f",
   "metadata": {},
   "outputs": [],
   "source": []
  },
  {
   "cell_type": "code",
   "execution_count": null,
   "id": "d0361dd9-ee37-4c65-9039-666b264799f0",
   "metadata": {},
   "outputs": [],
   "source": []
  }
 ],
 "metadata": {
  "kernelspec": {
   "display_name": "Python 3 (ipykernel)",
   "language": "python",
   "name": "python3"
  },
  "language_info": {
   "codemirror_mode": {
    "name": "ipython",
    "version": 3
   },
   "file_extension": ".py",
   "mimetype": "text/x-python",
   "name": "python",
   "nbconvert_exporter": "python",
   "pygments_lexer": "ipython3",
   "version": "3.12.4"
  }
 },
 "nbformat": 4,
 "nbformat_minor": 5
}
